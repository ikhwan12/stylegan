{
 "cells": [
  {
   "cell_type": "code",
   "execution_count": null,
   "metadata": {},
   "outputs": [],
   "source": [
    "!pip install tensorflow-gpu==1.15.2"
   ]
  },
  {
   "cell_type": "code",
   "execution_count": null,
   "metadata": {},
   "outputs": [],
   "source": [
    "!sudo apt-get install python python-pip build-essential cmake pkg-config libx11-dev libatlas-base-dev libgtk-3-dev libboost-python-dev -y"
   ]
  },
  {
   "cell_type": "code",
   "execution_count": null,
   "metadata": {},
   "outputs": [],
   "source": [
    "!sudo apt-get update"
   ]
  },
  {
   "cell_type": "code",
   "execution_count": null,
   "metadata": {},
   "outputs": [],
   "source": [
    "import PIL.Image\n",
    "img1 = PIL.Image.open('raw_images/0001.jpg')\n",
    "wpercent = (256/float(img1.size[0]))\n",
    "hsize = int((float(img1.size[1])*float(wpercent)))\n",
    "img1 = img1.resize((256,hsize), PIL.Image.LANCZOS)\n",
    "img2 = PIL.Image.open('raw_images/0002.jpg')\n",
    "wpercent = (256/float(img2.size[0]))\n",
    "hsize = int((float(img2.size[1])*float(wpercent)))\n",
    "img2 = img2.resize((256,hsize), PIL.Image.LANCZOS)\n",
    "display(img1,img2)"
   ]
  },
  {
   "cell_type": "code",
   "execution_count": null,
   "metadata": {},
   "outputs": [],
   "source": [
    "!python align_images.py raw_images/ aligned_images/"
   ]
  },
  {
   "cell_type": "code",
   "execution_count": null,
   "metadata": {},
   "outputs": [],
   "source": [
    "display(PIL.Image.open('aligned_images/0001_01.png').resize((256,256)))\n",
    "display(PIL.Image.open('aligned_images/0002_01.png').resize((256,256)))"
   ]
  },
  {
   "cell_type": "code",
   "execution_count": null,
   "metadata": {},
   "outputs": [],
   "source": [
    "!python encode_images.py --batch_size=2 --output_video=True aligned_images/ generated_images/ latent_representations/ --model_url \"model/model.pkl\""
   ]
  },
  {
   "cell_type": "code",
   "execution_count": null,
   "metadata": {},
   "outputs": [],
   "source": [
    "display(PIL.Image.open('generated_images/0001_01.png').resize((256,256)))\n",
    "display(PIL.Image.open('generated_images/0002_01.png').resize((256,256)))"
   ]
  },
  {
   "cell_type": "code",
   "execution_count": null,
   "metadata": {},
   "outputs": [],
   "source": [
    "import numpy as np\n",
    "import config\n",
    "import dnnlib\n",
    "import dnnlib.tflib as tflib\n",
    "import pickle\n",
    "import PIL.Image\n",
    "# load the StyleGAN model into Colab\n",
    "#URL_FFHQ = 'https://drive.google.com/uc?id=1oGj5qJcbk4Mt38g1k30Bhr_awZc_beM4'\n",
    "tflib.init_tf()\n",
    "#with dnnlib.util.open_url(URL_FFHQ, cache_dir=config.cache_dir) as f:\n",
    "with open('model/model.pkl','rb') as f:\n",
    "    generator_network, discriminator_network, Gs_network = pickle.load(f)\n",
    "# load the latents\n",
    "s1 = np.load('latent_representations/0001_01.npy')\n",
    "s2 = np.load('latent_representations/0002_01.npy')\n",
    "s1 = np.expand_dims(s1,axis=0)\n",
    "s2 = np.expand_dims(s2,axis=0)\n",
    "# combine the latents somehow... let's try an average:\n",
    "savg = 0.2*s1 + 0.8*s2\n",
    "# run the generator network to render the latents:\n",
    "synthesis_kwargs = dict(output_transform=dict(func=tflib.convert_images_to_uint8, nchw_to_nhwc=False), minibatch_size=8)\n",
    "images = Gs_network.components.synthesis.run(savg, randomize_noise=False, **synthesis_kwargs)\n",
    "display(PIL.Image.fromarray(images.transpose((0,2,3,1))[0], 'RGB').resize((512,512),PIL.Image.LANCZOS))"
   ]
  },
  {
   "cell_type": "code",
   "execution_count": null,
   "metadata": {},
   "outputs": [],
   "source": [
    "(PIL.Image.fromarray(images.transpose((0,2,3,1))[0], 'RGB').resize((512,512),PIL.Image.LANCZOS)).save(\"outtest.png\") "
   ]
  },
  {
   "cell_type": "code",
   "execution_count": null,
   "metadata": {},
   "outputs": [],
   "source": [
    "display(PIL.Image.open('outtest.png').resize((256,256)))"
   ]
  }
 ],
 "metadata": {
  "kernelspec": {
   "display_name": "Python 3",
   "language": "python",
   "name": "python3"
  },
  "language_info": {
   "codemirror_mode": {
    "name": "ipython",
    "version": 3
   },
   "file_extension": ".py",
   "mimetype": "text/x-python",
   "name": "python",
   "nbconvert_exporter": "python",
   "pygments_lexer": "ipython3",
   "version": "3.7.3"
  }
 },
 "nbformat": 4,
 "nbformat_minor": 4
}
